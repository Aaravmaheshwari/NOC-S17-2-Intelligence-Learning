{
 "cells": [
  {
   "cell_type": "code",
   "execution_count": null,
   "metadata": {
    "collapsed": false,
    "deletable": true,
    "editable": true
   },
   "outputs": [],
   "source": [
    "# Import Flask:\n",
    "from flask import Flask, render_template, request, url_for\n",
    "\n",
    "# Initialize Flask app:\n",
    "app = Flask(__name__)\n",
    "\n",
    "# Define default route:\n",
    "@app.route('/')\n",
    "@app.route('/index')\n",
    "def index():\n",
    "    return 'hello'\n",
    "\n",
    "# Define form submission route:\n",
    "@app.route('/hello', methods=['POST'])\n",
    "def hello():\n",
    "    # Get user's name from submitted form data:\n",
    "    name_string = request.form[ 'user_name' ]\n",
    "    # Render hello page (with variables injected):\n",
    "    return render_template( 'hello.html', name_str = name_string, name_len = name_length )\n",
    "\n",
    "# Run app:\n",
    "if __name__ == '__main__':\n",
    "    app.run( host='0.0.0.0', port=8080, debug=False )"
   ]
  },
  {
   "cell_type": "code",
   "execution_count": null,
   "metadata": {
    "collapsed": true
   },
   "outputs": [],
   "source": []
  }
 ],
 "metadata": {
  "kernelspec": {
   "display_name": "Python 3",
   "language": "python",
   "name": "python3"
  },
  "language_info": {
   "codemirror_mode": {
    "name": "ipython",
    "version": 3
   },
   "file_extension": ".py",
   "mimetype": "text/x-python",
   "name": "python",
   "nbconvert_exporter": "python",
   "pygments_lexer": "ipython3",
   "version": "3.5.2"
  }
 },
 "nbformat": 4,
 "nbformat_minor": 2
}
